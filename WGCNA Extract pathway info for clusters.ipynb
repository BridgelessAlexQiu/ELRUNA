{
 "cells": [
  {
   "cell_type": "code",
   "execution_count": 79,
   "metadata": {},
   "outputs": [],
   "source": [
    "import networkx as nx\n",
    "import matplotlib.pyplot as plt\n",
    "from collections import defaultdict\n",
    "import community\n",
    "from networkx.algorithms.community import greedy_modularity_communities\n",
    "import collections\n",
    "import csv"
   ]
  },
  {
   "cell_type": "code",
   "execution_count": 80,
   "metadata": {},
   "outputs": [
    {
     "name": "stdout",
     "output_type": "stream",
     "text": [
      "pre-network:\n",
      "Name: \n",
      "Type: Graph\n",
      "Number of nodes: 357\n",
      "Number of edges: 5605\n",
      "Average degree:  31.4006\n",
      "-----------------------\n",
      "post-network:\n",
      "Name: \n",
      "Type: Graph\n",
      "Number of nodes: 256\n",
      "Number of edges: 1789\n",
      "Average degree:  13.9766\n"
     ]
    }
   ],
   "source": [
    "# main network files\n",
    "pre_fname='../data/RectumMicrobiome_PrePost/stool_network_pre.gml.txt.network'\n",
    "post_fname='../data/RectumMicrobiome_PrePost/stool_network_post.gml.txt.network'\n",
    "\n",
    "#pre_wG : the pre network loaded by networkx\n",
    "pre_wG = nx.read_gml(pre_fname, label='id')\n",
    "print(\"pre-network:\")\n",
    "print(nx.info(pre_wG))\n",
    "\n",
    "print('-----------------------')\n",
    "\n",
    "# post_wG : the post network loaded by networkx\n",
    "post_wG = nx.read_gml(post_fname, label='id')\n",
    "print(\"post-network:\")\n",
    "print(nx.info(post_wG))"
   ]
  },
  {
   "cell_type": "code",
   "execution_count": 81,
   "metadata": {},
   "outputs": [],
   "source": [
    "# Get the OTU ids\n",
    "pre_OTUID = nx.get_node_attributes(pre_wG,'OTUID') # format: OTUID[vertex_id] = OTUID\n",
    "post_OTUID = nx.get_node_attributes(post_wG,'OTUID') # format: OTUID[vertex_id] = OTUID"
   ]
  },
  {
   "cell_type": "code",
   "execution_count": 82,
   "metadata": {},
   "outputs": [
    {
     "name": "stdout",
     "output_type": "stream",
     "text": [
      "Number of clusters in the pre-network: 8\n",
      "Number of clusters in the pre-network: 9\n"
     ]
    }
   ],
   "source": [
    "# format: [community : (v1, v2, ..., vn)], this encodes the inforamtion we neede\n",
    "pre_cluster = greedy_modularity_communities(pre_wG)\n",
    "print(\"Number of clusters in the pre-network: {}\".format(len(pre_cluster))) # 8\n",
    "\n",
    "post_cluster = greedy_modularity_communities(post_wG)\n",
    "print(\"Number of clusters in the pre-network: {}\".format(len(post_cluster))) # 9"
   ]
  },
  {
   "cell_type": "code",
   "execution_count": 83,
   "metadata": {},
   "outputs": [],
   "source": [
    "# The format of the pre_cluster defined above is : [Community_number : (vertex_id1, vertex_id2, ...)]\n",
    "# But, we need OUTID\n",
    "\n",
    "#format {cluster_number_0: [OTUID1, OTUID2, ...], cluster_number_1: [...], ...}\n",
    "pre_cluster_otuid = defaultdict(list)\n",
    "post_cluster_otuid = defaultdict(list)\n",
    "\n",
    "# pre-network\n",
    "for i, cluster in enumerate(pre_cluster):\n",
    "    for vertexid in cluster:\n",
    "        pre_cluster_otuid[i].append(pre_OTUID[vertexid])\n",
    "\n",
    "# post-network\n",
    "for i, cluster in enumerate(post_cluster):\n",
    "    for vertexid in cluster:\n",
    "        post_cluster_otuid[i].append(post_OTUID[vertexid])"
   ]
  },
  {
   "cell_type": "code",
   "execution_count": 84,
   "metadata": {
    "scrolled": false
   },
   "outputs": [],
   "source": [
    "pre_total_count_fo = open('task3/total_count_pre.csv', 'r')\n",
    "csv_pre_reader = csv.reader(pre_total_count_fo, delimiter=',')\n",
    "\n",
    "# I need this for fast access the count of each OTU\n",
    "# format: {OUTID: counts}\n",
    "pre_total_count = dict()\n",
    "\n",
    "for i in list(csv_pre_reader)[1:]:\n",
    "        #check if the list is empty, for some reason, csvreader reads \\n character as an empty list\n",
    "        if i:\n",
    "            pre_total_count[i[0]] = int(i[1])\n",
    "\n",
    "pre_total_count_fo.close()\n",
    "\n",
    "\n",
    "post_total_count_fo = open('task3/total_count_post.csv', 'r')\n",
    "csv_post_reader = csv.reader(post_total_count_fo, delimiter=',')\n",
    "\n",
    "# I need this for fast access the count of each OTU\n",
    "# format: {OUTID: counts}\n",
    "post_total_count = dict()\n",
    "\n",
    "for i in list(csv_post_reader)[1:]:\n",
    "    #check if the list is empty, for some reason, csvreader reads \\n character as an empty list\n",
    "    if i:\n",
    "        post_total_count[i[0]] = int(i[1])\n",
    "\n",
    "post_total_count_fo.close()\n"
   ]
  },
  {
   "cell_type": "code",
   "execution_count": 85,
   "metadata": {},
   "outputs": [],
   "source": [
    "# Time to construct files which consist of counts of OUTs in each cluster\n",
    "for cluster_number, otus in pre_cluster_otuid.items():\n",
    "    pre_cluster_fo = open(\"WGCNA_cluster_count/pre_{}.csv\".format(cluster_number), 'w')\n",
    "    pre_cluster_fo.write(\"OTU,Total_sample_counts\\n\")\n",
    "    for otu in otus:\n",
    "        pre_cluster_fo.write(\"otu_\" + otu + ',' + str(pre_total_count[otu])+'\\n')\n",
    "    \n",
    "    pre_cluster_fo.close()\n",
    "\n",
    "for cluster_number, otus in post_cluster_otuid.items():\n",
    "    post_cluster_fo = open(\"WGCNA_cluster_count/post_{}.csv\".format(cluster_number), 'w')\n",
    "    post_cluster_fo.write(\"OTU,Total_sample_counts\\n\")\n",
    "    for otu in otus:\n",
    "        post_cluster_fo.write(\"otu_\" + otu + ',' + str(post_total_count[otu])+'\\n')\n",
    "    \n",
    "    post_cluster_fo.close()"
   ]
  },
  {
   "cell_type": "code",
   "execution_count": 86,
   "metadata": {},
   "outputs": [],
   "source": [
    "# Time for DNA\n",
    "dna = open(\"task3/unchimeric_rep_set.fasta\",'r') \n",
    "\n",
    "# dna sequences is the same for the same OTU regardles of whether it is pre/post network\n",
    "# format: {OUTID : sequence}\n",
    "dna_info = dict()\n",
    "\n",
    "c = 1\n",
    "for row in dna:\n",
    "    if c % 2 == 1:\n",
    "        # we skip the \\n char\n",
    "        dna_info[row[1:-1]] = dna.readline()[:-1] # same, the last character is a newline character\n",
    "        c += 1\n",
    "    c += 1    "
   ]
  },
  {
   "cell_type": "code",
   "execution_count": 87,
   "metadata": {},
   "outputs": [],
   "source": [
    "# pre-network\n",
    "for cluster_number, otus in pre_cluster_otuid.items():\n",
    "    pre_cluster_fo = open(\"WGCNA_cluster_dna/pre_{}.fasta\".format(cluster_number), 'w')\n",
    "    \n",
    "    for otu in otus:\n",
    "        pre_cluster_fo.write('>otu_' + otu + '\\n')\n",
    "        pre_cluster_fo.write(dna_info[otu] + '\\n')\n",
    "    \n",
    "    pre_cluster_fo.close()\n",
    "\n",
    "# post-network\n",
    "for cluster_number, otus in post_cluster_otuid.items():\n",
    "    post_cluster_fo = open(\"WGCNA_cluster_dna/post_{}.fasta\".format(cluster_number), 'w')\n",
    "    \n",
    "    for otu in otus:\n",
    "        post_cluster_fo.write('>otu_' + otu + '\\n')\n",
    "        post_cluster_fo.write(dna_info[otu] + '\\n')\n",
    "    \n",
    "    post_cluster_fo.close()"
   ]
  },
  {
   "cell_type": "code",
   "execution_count": null,
   "metadata": {},
   "outputs": [],
   "source": []
  }
 ],
 "metadata": {
  "kernelspec": {
   "display_name": "Python 3",
   "language": "python",
   "name": "python3"
  },
  "language_info": {
   "codemirror_mode": {
    "name": "ipython",
    "version": 3
   },
   "file_extension": ".py",
   "mimetype": "text/x-python",
   "name": "python",
   "nbconvert_exporter": "python",
   "pygments_lexer": "ipython3",
   "version": "3.7.0"
  }
 },
 "nbformat": 4,
 "nbformat_minor": 2
}
